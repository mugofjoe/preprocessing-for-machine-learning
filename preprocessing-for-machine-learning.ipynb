{
 "cells": [
  {
   "cell_type": "markdown",
   "id": "c23d2743-1e79-4e8c-b04a-33901618472d",
   "metadata": {},
   "source": [
    "# Preprocessing for Machine Learning"
   ]
  },
  {
   "cell_type": "code",
   "execution_count": 7,
   "id": "d9933d16-e9b6-43fe-bdb6-4964923f27a2",
   "metadata": {},
   "outputs": [],
   "source": [
    "import pandas as pd\n",
    "import numpy as np"
   ]
  },
  {
   "cell_type": "markdown",
   "id": "65c433e7-eb2a-49cc-8848-48da68ddb223",
   "metadata": {},
   "source": [
    "## Download the data"
   ]
  },
  {
   "cell_type": "code",
   "execution_count": 8,
   "id": "2bf4c71a-9a3d-4f3b-be7d-0c45140d60a4",
   "metadata": {},
   "outputs": [
    {
     "name": "stdout",
     "output_type": "stream",
     "text": [
      "Successfully fetched hiking data.\n",
      "Successfully fetched wine data.\n",
      "Successfully fetched ufo data.\n",
      "Successfully fetched volunteer data.\n"
     ]
    }
   ],
   "source": [
    "# Dictionary with dataset names as keys and URLs as values\n",
    "dataset_urls = {\n",
    "    'hiking': 'https://assets.datacamp.com/production/repositories/1816/datasets/4f26c48451bdbf73db8a58e226cd3d6b45cf7bb5/hiking.json',\n",
    "    'wine': 'https://assets.datacamp.com/production/repositories/1816/datasets/9bd5350dfdb481e0f94eeef6acf2663452a8ef8b/wine_types.csv',\n",
    "    'ufo':'https://assets.datacamp.com/production/repositories/1816/datasets/a5ebfe5d2ed194f2668867603b563963af4769e9/ufo_sightings_large.csv',\n",
    "    'volunteer':'https://assets.datacamp.com/production/repositories/1816/datasets/668b96955d8b252aa8439c7602d516634e3f015e/volunteer_opportunities.csv'\n",
    "}\n",
    "\n",
    "def fetch_data_and_create_dataframe(dataset_urls):\n",
    "    dataframes = {}  # Dictionary to store DataFrames\n",
    "\n",
    "    for dataset, url in dataset_urls.items():\n",
    "        try:\n",
    "            # Determine file format based on the dataset name\n",
    "            file_format = 'json' if dataset == 'hiking' else 'csv'\n",
    "            \n",
    "            # Read the data from the URL into a DataFrame\n",
    "            if file_format == 'json':\n",
    "                df = pd.read_json(url)\n",
    "            else:\n",
    "                df = pd.read_csv(url)\n",
    "\n",
    "            dataframes[dataset] = df\n",
    "            print(f\"Successfully fetched {dataset} data.\")\n",
    "        except Exception as e:\n",
    "            print(f\"Error fetching {dataset} data: {str(e)}\")\n",
    "\n",
    "    return dataframes\n",
    "\n",
    "# Call the function with your dataset URLs\n",
    "fetched_dataframes = fetch_data_and_create_dataframe(dataset_urls)\n",
    "\n",
    "# Now 'resulting_dataframes' is a dictionary where keys are dataset names and values are DataFrames\n",
    "# You can access each DataFrame using, for example, fetched_dataframes['hiking']"
   ]
  },
  {
   "cell_type": "code",
   "execution_count": 9,
   "id": "f4c414ff-887b-44c3-b644-dd724a4a4b24",
   "metadata": {},
   "outputs": [
    {
     "data": {
      "text/html": [
       "<div>\n",
       "<style scoped>\n",
       "    .dataframe tbody tr th:only-of-type {\n",
       "        vertical-align: middle;\n",
       "    }\n",
       "\n",
       "    .dataframe tbody tr th {\n",
       "        vertical-align: top;\n",
       "    }\n",
       "\n",
       "    .dataframe thead th {\n",
       "        text-align: right;\n",
       "    }\n",
       "</style>\n",
       "<table border=\"1\" class=\"dataframe\">\n",
       "  <thead>\n",
       "    <tr style=\"text-align: right;\">\n",
       "      <th></th>\n",
       "      <th>Prop_ID</th>\n",
       "      <th>Name</th>\n",
       "      <th>Location</th>\n",
       "      <th>Park_Name</th>\n",
       "      <th>Length</th>\n",
       "      <th>Difficulty</th>\n",
       "      <th>Other_Details</th>\n",
       "      <th>Accessible</th>\n",
       "      <th>Limited_Access</th>\n",
       "      <th>lat</th>\n",
       "      <th>lon</th>\n",
       "    </tr>\n",
       "  </thead>\n",
       "  <tbody>\n",
       "    <tr>\n",
       "      <th>0</th>\n",
       "      <td>B057</td>\n",
       "      <td>Salt Marsh Nature Trail</td>\n",
       "      <td>Enter behind the Salt Marsh Nature Center, loc...</td>\n",
       "      <td>Marine Park</td>\n",
       "      <td>0.8 miles</td>\n",
       "      <td>None</td>\n",
       "      <td>&lt;p&gt;The first half of this mile-long trail foll...</td>\n",
       "      <td>Y</td>\n",
       "      <td>N</td>\n",
       "      <td>NaN</td>\n",
       "      <td>NaN</td>\n",
       "    </tr>\n",
       "    <tr>\n",
       "      <th>1</th>\n",
       "      <td>B073</td>\n",
       "      <td>Lullwater</td>\n",
       "      <td>Enter Park at Lincoln Road and Ocean Avenue en...</td>\n",
       "      <td>Prospect Park</td>\n",
       "      <td>1.0 mile</td>\n",
       "      <td>Easy</td>\n",
       "      <td>Explore the Lullwater to see how nature thrive...</td>\n",
       "      <td>N</td>\n",
       "      <td>N</td>\n",
       "      <td>NaN</td>\n",
       "      <td>NaN</td>\n",
       "    </tr>\n",
       "    <tr>\n",
       "      <th>2</th>\n",
       "      <td>B073</td>\n",
       "      <td>Midwood</td>\n",
       "      <td>Enter Park at Lincoln Road and Ocean Avenue en...</td>\n",
       "      <td>Prospect Park</td>\n",
       "      <td>0.75 miles</td>\n",
       "      <td>Easy</td>\n",
       "      <td>Step back in time with a walk through Brooklyn...</td>\n",
       "      <td>N</td>\n",
       "      <td>N</td>\n",
       "      <td>NaN</td>\n",
       "      <td>NaN</td>\n",
       "    </tr>\n",
       "    <tr>\n",
       "      <th>3</th>\n",
       "      <td>B073</td>\n",
       "      <td>Peninsula</td>\n",
       "      <td>Enter Park at Lincoln Road and Ocean Avenue en...</td>\n",
       "      <td>Prospect Park</td>\n",
       "      <td>0.5 miles</td>\n",
       "      <td>Easy</td>\n",
       "      <td>Discover how the Peninsula has changed over th...</td>\n",
       "      <td>N</td>\n",
       "      <td>N</td>\n",
       "      <td>NaN</td>\n",
       "      <td>NaN</td>\n",
       "    </tr>\n",
       "    <tr>\n",
       "      <th>4</th>\n",
       "      <td>B073</td>\n",
       "      <td>Waterfall</td>\n",
       "      <td>Enter Park at Lincoln Road and Ocean Avenue en...</td>\n",
       "      <td>Prospect Park</td>\n",
       "      <td>0.5 miles</td>\n",
       "      <td>Easy</td>\n",
       "      <td>Trace the source of the Lake on the Waterfall ...</td>\n",
       "      <td>N</td>\n",
       "      <td>N</td>\n",
       "      <td>NaN</td>\n",
       "      <td>NaN</td>\n",
       "    </tr>\n",
       "  </tbody>\n",
       "</table>\n",
       "</div>"
      ],
      "text/plain": [
       "  Prop_ID                     Name  \\\n",
       "0    B057  Salt Marsh Nature Trail   \n",
       "1    B073                Lullwater   \n",
       "2    B073                  Midwood   \n",
       "3    B073                Peninsula   \n",
       "4    B073                Waterfall   \n",
       "\n",
       "                                            Location      Park_Name  \\\n",
       "0  Enter behind the Salt Marsh Nature Center, loc...    Marine Park   \n",
       "1  Enter Park at Lincoln Road and Ocean Avenue en...  Prospect Park   \n",
       "2  Enter Park at Lincoln Road and Ocean Avenue en...  Prospect Park   \n",
       "3  Enter Park at Lincoln Road and Ocean Avenue en...  Prospect Park   \n",
       "4  Enter Park at Lincoln Road and Ocean Avenue en...  Prospect Park   \n",
       "\n",
       "       Length Difficulty                                      Other_Details  \\\n",
       "0   0.8 miles       None  <p>The first half of this mile-long trail foll...   \n",
       "1    1.0 mile       Easy  Explore the Lullwater to see how nature thrive...   \n",
       "2  0.75 miles       Easy  Step back in time with a walk through Brooklyn...   \n",
       "3   0.5 miles       Easy  Discover how the Peninsula has changed over th...   \n",
       "4   0.5 miles       Easy  Trace the source of the Lake on the Waterfall ...   \n",
       "\n",
       "  Accessible Limited_Access  lat  lon  \n",
       "0          Y              N  NaN  NaN  \n",
       "1          N              N  NaN  NaN  \n",
       "2          N              N  NaN  NaN  \n",
       "3          N              N  NaN  NaN  \n",
       "4          N              N  NaN  NaN  "
      ]
     },
     "metadata": {},
     "output_type": "display_data"
    }
   ],
   "source": [
    "# Display the hiking dataset\n",
    "hiking = fetched_dataframes['hiking']\n",
    "display(hiking.head())"
   ]
  },
  {
   "cell_type": "markdown",
   "id": "998ddddc-8ef1-4ba5-a471-d809d319da29",
   "metadata": {},
   "source": [
    "## Exploring with pandas"
   ]
  },
  {
   "cell_type": "code",
   "execution_count": 10,
   "id": "f7acb78d-2f7f-4653-b167-5f40d7a9c8e3",
   "metadata": {},
   "outputs": [
    {
     "name": "stdout",
     "output_type": "stream",
     "text": [
      "<class 'pandas.core.frame.DataFrame'>\n",
      "Index: 33 entries, 0 to 32\n",
      "Data columns (total 11 columns):\n",
      " #   Column          Non-Null Count  Dtype  \n",
      "---  ------          --------------  -----  \n",
      " 0   Prop_ID         33 non-null     object \n",
      " 1   Name            33 non-null     object \n",
      " 2   Location        33 non-null     object \n",
      " 3   Park_Name       33 non-null     object \n",
      " 4   Length          29 non-null     object \n",
      " 5   Difficulty      27 non-null     object \n",
      " 6   Other_Details   31 non-null     object \n",
      " 7   Accessible      33 non-null     object \n",
      " 8   Limited_Access  33 non-null     object \n",
      " 9   lat             0 non-null      float64\n",
      " 10  lon             0 non-null      float64\n",
      "dtypes: float64(2), object(9)\n",
      "memory usage: 3.1+ KB\n",
      "None\n"
     ]
    }
   ],
   "source": [
    "# Number of records with missing values\n",
    "print(hiking.info())"
   ]
  },
  {
   "cell_type": "code",
   "execution_count": 11,
   "id": "2ebfc14d-5131-40f6-a892-ca320e2af5ca",
   "metadata": {},
   "outputs": [
    {
     "name": "stdout",
     "output_type": "stream",
     "text": [
      "             Type     Alcohol  Malic acid         Ash  Alcalinity of ash  \\\n",
      "count  178.000000  178.000000  178.000000  178.000000         178.000000   \n",
      "mean     1.938202   13.000618    2.336348    2.366517          19.494944   \n",
      "std      0.775035    0.811827    1.117146    0.274344           3.339564   \n",
      "min      1.000000   11.030000    0.740000    1.360000          10.600000   \n",
      "25%      1.000000   12.362500    1.602500    2.210000          17.200000   \n",
      "50%      2.000000   13.050000    1.865000    2.360000          19.500000   \n",
      "75%      3.000000   13.677500    3.082500    2.557500          21.500000   \n",
      "max      3.000000   14.830000    5.800000    3.230000          30.000000   \n",
      "\n",
      "        Magnesium  Total phenols  Flavanoids  Nonflavanoid phenols  \\\n",
      "count  178.000000     178.000000  178.000000            178.000000   \n",
      "mean    99.741573       2.295112    2.029270              0.361854   \n",
      "std     14.282484       0.625851    0.998859              0.124453   \n",
      "min     70.000000       0.980000    0.340000              0.130000   \n",
      "25%     88.000000       1.742500    1.205000              0.270000   \n",
      "50%     98.000000       2.355000    2.135000              0.340000   \n",
      "75%    107.000000       2.800000    2.875000              0.437500   \n",
      "max    162.000000       3.880000    5.080000              0.660000   \n",
      "\n",
      "       Proanthocyanins  Color intensity         Hue  \\\n",
      "count       178.000000       178.000000  178.000000   \n",
      "mean          1.590899         5.058090    0.957449   \n",
      "std           0.572359         2.318286    0.228572   \n",
      "min           0.410000         1.280000    0.480000   \n",
      "25%           1.250000         3.220000    0.782500   \n",
      "50%           1.555000         4.690000    0.965000   \n",
      "75%           1.950000         6.200000    1.120000   \n",
      "max           3.580000        13.000000    1.710000   \n",
      "\n",
      "       OD280/OD315 of diluted wines      Proline  \n",
      "count                    178.000000   178.000000  \n",
      "mean                       2.611685   746.893258  \n",
      "std                        0.709990   314.907474  \n",
      "min                        1.270000   278.000000  \n",
      "25%                        1.937500   500.500000  \n",
      "50%                        2.780000   673.500000  \n",
      "75%                        3.170000   985.000000  \n",
      "max                        4.000000  1680.000000  \n"
     ]
    }
   ],
   "source": [
    "# Summary statistics\n",
    "print(fetched_dataframes['wine'].describe())"
   ]
  },
  {
   "cell_type": "markdown",
   "id": "d78e928f-d1c2-440a-a539-d2dec4003439",
   "metadata": {},
   "source": [
    "## Removing missing data"
   ]
  },
  {
   "cell_type": "code",
   "execution_count": 12,
   "id": "130cc7ab-53ee-478c-a789-c361277e57d7",
   "metadata": {},
   "outputs": [
    {
     "data": {
      "text/html": [
       "<div>\n",
       "<style scoped>\n",
       "    .dataframe tbody tr th:only-of-type {\n",
       "        vertical-align: middle;\n",
       "    }\n",
       "\n",
       "    .dataframe tbody tr th {\n",
       "        vertical-align: top;\n",
       "    }\n",
       "\n",
       "    .dataframe thead th {\n",
       "        text-align: right;\n",
       "    }\n",
       "</style>\n",
       "<table border=\"1\" class=\"dataframe\">\n",
       "  <thead>\n",
       "    <tr style=\"text-align: right;\">\n",
       "      <th></th>\n",
       "      <th>A</th>\n",
       "      <th>B</th>\n",
       "      <th>C</th>\n",
       "    </tr>\n",
       "  </thead>\n",
       "  <tbody>\n",
       "    <tr>\n",
       "      <th>0</th>\n",
       "      <td>1.0</td>\n",
       "      <td>NaN</td>\n",
       "      <td>2.0</td>\n",
       "    </tr>\n",
       "    <tr>\n",
       "      <th>1</th>\n",
       "      <td>4.0</td>\n",
       "      <td>7.0</td>\n",
       "      <td>3.0</td>\n",
       "    </tr>\n",
       "    <tr>\n",
       "      <th>2</th>\n",
       "      <td>7.0</td>\n",
       "      <td>NaN</td>\n",
       "      <td>NaN</td>\n",
       "    </tr>\n",
       "    <tr>\n",
       "      <th>3</th>\n",
       "      <td>NaN</td>\n",
       "      <td>7.0</td>\n",
       "      <td>NaN</td>\n",
       "    </tr>\n",
       "    <tr>\n",
       "      <th>4</th>\n",
       "      <td>5.0</td>\n",
       "      <td>9.0</td>\n",
       "      <td>7.0</td>\n",
       "    </tr>\n",
       "  </tbody>\n",
       "</table>\n",
       "</div>"
      ],
      "text/plain": [
       "     A    B    C\n",
       "0  1.0  NaN  2.0\n",
       "1  4.0  7.0  3.0\n",
       "2  7.0  NaN  NaN\n",
       "3  NaN  7.0  NaN\n",
       "4  5.0  9.0  7.0"
      ]
     },
     "metadata": {},
     "output_type": "display_data"
    }
   ],
   "source": [
    "data = {\n",
    "    'A': [1.0, 4.0, 7.0, np.nan, 5.0],\n",
    "    'B': [np.nan, 7.0, np.nan, 7.0, 9.0],\n",
    "    'C': [2.0, 3.0, np.nan, np.nan, 7.0],\n",
    "}\n",
    "\n",
    "df = pd.DataFrame(data)\n",
    "display(df)\n"
   ]
  },
  {
   "cell_type": "code",
   "execution_count": 13,
   "id": "ced91af7-60bc-4a57-876f-45b34cdb7afb",
   "metadata": {},
   "outputs": [
    {
     "data": {
      "text/html": [
       "<div>\n",
       "<style scoped>\n",
       "    .dataframe tbody tr th:only-of-type {\n",
       "        vertical-align: middle;\n",
       "    }\n",
       "\n",
       "    .dataframe tbody tr th {\n",
       "        vertical-align: top;\n",
       "    }\n",
       "\n",
       "    .dataframe thead th {\n",
       "        text-align: right;\n",
       "    }\n",
       "</style>\n",
       "<table border=\"1\" class=\"dataframe\">\n",
       "  <thead>\n",
       "    <tr style=\"text-align: right;\">\n",
       "      <th></th>\n",
       "      <th>A</th>\n",
       "      <th>B</th>\n",
       "      <th>C</th>\n",
       "    </tr>\n",
       "  </thead>\n",
       "  <tbody>\n",
       "    <tr>\n",
       "      <th>1</th>\n",
       "      <td>4.0</td>\n",
       "      <td>7.0</td>\n",
       "      <td>3.0</td>\n",
       "    </tr>\n",
       "    <tr>\n",
       "      <th>4</th>\n",
       "      <td>5.0</td>\n",
       "      <td>9.0</td>\n",
       "      <td>7.0</td>\n",
       "    </tr>\n",
       "  </tbody>\n",
       "</table>\n",
       "</div>"
      ],
      "text/plain": [
       "     A    B    C\n",
       "1  4.0  7.0  3.0\n",
       "4  5.0  9.0  7.0"
      ]
     },
     "metadata": {},
     "output_type": "display_data"
    }
   ],
   "source": [
    "# drop all rows containing missing values\n",
    "display(df.dropna())"
   ]
  },
  {
   "cell_type": "code",
   "execution_count": 14,
   "id": "ad4f136f-4a1b-444a-88ae-174a5d288875",
   "metadata": {},
   "outputs": [
    {
     "data": {
      "text/html": [
       "<div>\n",
       "<style scoped>\n",
       "    .dataframe tbody tr th:only-of-type {\n",
       "        vertical-align: middle;\n",
       "    }\n",
       "\n",
       "    .dataframe tbody tr th {\n",
       "        vertical-align: top;\n",
       "    }\n",
       "\n",
       "    .dataframe thead th {\n",
       "        text-align: right;\n",
       "    }\n",
       "</style>\n",
       "<table border=\"1\" class=\"dataframe\">\n",
       "  <thead>\n",
       "    <tr style=\"text-align: right;\">\n",
       "      <th></th>\n",
       "      <th>A</th>\n",
       "      <th>B</th>\n",
       "      <th>C</th>\n",
       "    </tr>\n",
       "  </thead>\n",
       "  <tbody>\n",
       "    <tr>\n",
       "      <th>0</th>\n",
       "      <td>1.0</td>\n",
       "      <td>NaN</td>\n",
       "      <td>2.0</td>\n",
       "    </tr>\n",
       "    <tr>\n",
       "      <th>4</th>\n",
       "      <td>5.0</td>\n",
       "      <td>9.0</td>\n",
       "      <td>7.0</td>\n",
       "    </tr>\n",
       "  </tbody>\n",
       "</table>\n",
       "</div>"
      ],
      "text/plain": [
       "     A    B    C\n",
       "0  1.0  NaN  2.0\n",
       "4  5.0  9.0  7.0"
      ]
     },
     "metadata": {},
     "output_type": "display_data"
    }
   ],
   "source": [
    "# drop specific rows using index labels (defaults to dropping rows)\n",
    "display(df.drop([1, 2, 3]))"
   ]
  },
  {
   "cell_type": "code",
   "execution_count": 15,
   "id": "c4e34b1a-4dd8-4e12-b849-e71eff531d1b",
   "metadata": {},
   "outputs": [
    {
     "data": {
      "text/html": [
       "<div>\n",
       "<style scoped>\n",
       "    .dataframe tbody tr th:only-of-type {\n",
       "        vertical-align: middle;\n",
       "    }\n",
       "\n",
       "    .dataframe tbody tr th {\n",
       "        vertical-align: top;\n",
       "    }\n",
       "\n",
       "    .dataframe thead th {\n",
       "        text-align: right;\n",
       "    }\n",
       "</style>\n",
       "<table border=\"1\" class=\"dataframe\">\n",
       "  <thead>\n",
       "    <tr style=\"text-align: right;\">\n",
       "      <th></th>\n",
       "      <th>B</th>\n",
       "      <th>C</th>\n",
       "    </tr>\n",
       "  </thead>\n",
       "  <tbody>\n",
       "    <tr>\n",
       "      <th>0</th>\n",
       "      <td>NaN</td>\n",
       "      <td>2.0</td>\n",
       "    </tr>\n",
       "    <tr>\n",
       "      <th>1</th>\n",
       "      <td>7.0</td>\n",
       "      <td>3.0</td>\n",
       "    </tr>\n",
       "    <tr>\n",
       "      <th>2</th>\n",
       "      <td>NaN</td>\n",
       "      <td>NaN</td>\n",
       "    </tr>\n",
       "    <tr>\n",
       "      <th>3</th>\n",
       "      <td>7.0</td>\n",
       "      <td>NaN</td>\n",
       "    </tr>\n",
       "    <tr>\n",
       "      <th>4</th>\n",
       "      <td>9.0</td>\n",
       "      <td>7.0</td>\n",
       "    </tr>\n",
       "  </tbody>\n",
       "</table>\n",
       "</div>"
      ],
      "text/plain": [
       "     B    C\n",
       "0  NaN  2.0\n",
       "1  7.0  3.0\n",
       "2  NaN  NaN\n",
       "3  7.0  NaN\n",
       "4  9.0  7.0"
      ]
     },
     "metadata": {},
     "output_type": "display_data"
    }
   ],
   "source": [
    "# drop a specific column especially if most or all of its columns are missing\n",
    "display(df.drop(\"A\", axis=1))"
   ]
  },
  {
   "cell_type": "code",
   "execution_count": 16,
   "id": "a4864886-911f-4640-b93c-47dedbdb9283",
   "metadata": {},
   "outputs": [
    {
     "data": {
      "text/plain": [
       "A    1\n",
       "B    2\n",
       "C    2\n",
       "dtype: int64"
      ]
     },
     "metadata": {},
     "output_type": "display_data"
    }
   ],
   "source": [
    "# drop rows where data is missing in a particular column\n",
    "\n",
    "# first - how many values we have in each column\n",
    "display(df.isna().sum())"
   ]
  },
  {
   "cell_type": "code",
   "execution_count": 17,
   "id": "13363edf-878d-441c-8905-d83e3cd57cfe",
   "metadata": {},
   "outputs": [
    {
     "data": {
      "text/html": [
       "<div>\n",
       "<style scoped>\n",
       "    .dataframe tbody tr th:only-of-type {\n",
       "        vertical-align: middle;\n",
       "    }\n",
       "\n",
       "    .dataframe tbody tr th {\n",
       "        vertical-align: top;\n",
       "    }\n",
       "\n",
       "    .dataframe thead th {\n",
       "        text-align: right;\n",
       "    }\n",
       "</style>\n",
       "<table border=\"1\" class=\"dataframe\">\n",
       "  <thead>\n",
       "    <tr style=\"text-align: right;\">\n",
       "      <th></th>\n",
       "      <th>A</th>\n",
       "      <th>B</th>\n",
       "      <th>C</th>\n",
       "    </tr>\n",
       "  </thead>\n",
       "  <tbody>\n",
       "    <tr>\n",
       "      <th>1</th>\n",
       "      <td>4.0</td>\n",
       "      <td>7.0</td>\n",
       "      <td>3.0</td>\n",
       "    </tr>\n",
       "    <tr>\n",
       "      <th>3</th>\n",
       "      <td>NaN</td>\n",
       "      <td>7.0</td>\n",
       "      <td>NaN</td>\n",
       "    </tr>\n",
       "    <tr>\n",
       "      <th>4</th>\n",
       "      <td>5.0</td>\n",
       "      <td>9.0</td>\n",
       "      <td>7.0</td>\n",
       "    </tr>\n",
       "  </tbody>\n",
       "</table>\n",
       "</div>"
      ],
      "text/plain": [
       "     A    B    C\n",
       "1  4.0  7.0  3.0\n",
       "3  NaN  7.0  NaN\n",
       "4  5.0  9.0  7.0"
      ]
     },
     "metadata": {},
     "output_type": "display_data"
    }
   ],
   "source": [
    "# second - specify a list of labels to dropna\n",
    "# here, drop those rows where there's missing values in column B\n",
    "display(df.dropna(subset=[\"B\"]))"
   ]
  },
  {
   "cell_type": "code",
   "execution_count": 18,
   "id": "3c9e4c30-2713-42d8-9432-4991ce1e861b",
   "metadata": {},
   "outputs": [
    {
     "data": {
      "text/html": [
       "<div>\n",
       "<style scoped>\n",
       "    .dataframe tbody tr th:only-of-type {\n",
       "        vertical-align: middle;\n",
       "    }\n",
       "\n",
       "    .dataframe tbody tr th {\n",
       "        vertical-align: top;\n",
       "    }\n",
       "\n",
       "    .dataframe thead th {\n",
       "        text-align: right;\n",
       "    }\n",
       "</style>\n",
       "<table border=\"1\" class=\"dataframe\">\n",
       "  <thead>\n",
       "    <tr style=\"text-align: right;\">\n",
       "      <th></th>\n",
       "      <th>A</th>\n",
       "      <th>B</th>\n",
       "      <th>C</th>\n",
       "    </tr>\n",
       "  </thead>\n",
       "  <tbody>\n",
       "    <tr>\n",
       "      <th>0</th>\n",
       "      <td>1.0</td>\n",
       "      <td>NaN</td>\n",
       "      <td>2.0</td>\n",
       "    </tr>\n",
       "    <tr>\n",
       "      <th>1</th>\n",
       "      <td>4.0</td>\n",
       "      <td>7.0</td>\n",
       "      <td>3.0</td>\n",
       "    </tr>\n",
       "    <tr>\n",
       "      <th>4</th>\n",
       "      <td>5.0</td>\n",
       "      <td>9.0</td>\n",
       "      <td>7.0</td>\n",
       "    </tr>\n",
       "  </tbody>\n",
       "</table>\n",
       "</div>"
      ],
      "text/plain": [
       "     A    B    C\n",
       "0  1.0  NaN  2.0\n",
       "1  4.0  7.0  3.0\n",
       "4  5.0  9.0  7.0"
      ]
     },
     "metadata": {},
     "output_type": "display_data"
    }
   ],
   "source": [
    "# specify how many missing values we require in each row\n",
    "display(df.dropna(thresh=2))"
   ]
  },
  {
   "cell_type": "markdown",
   "id": "fc3db057-7109-4707-83cf-3cb0de930d52",
   "metadata": {},
   "source": [
    "## Merging datasets"
   ]
  },
  {
   "cell_type": "code",
   "execution_count": 19,
   "id": "48fed65c-3d93-4e61-90b4-59b574b5c442",
   "metadata": {},
   "outputs": [
    {
     "name": "stdout",
     "output_type": "stream",
     "text": [
      "         date  price  quantity\n",
      "0  2023-01-01    2.0    1000.0\n",
      "1  2023-01-02    NaN    5000.0\n",
      "2  2023-01-05    3.0       NaN\n",
      "3  2023-02-15    2.0     500.0\n",
      "4  2023-03-01    NaN     200.0\n",
      "5  2023-03-17    1.0       NaN\n",
      "6  2023-04-23    3.0    1500.0\n",
      "7  2023-04-24    2.5       NaN\n",
      "8  2023-05-11    NaN    2500.0\n"
     ]
    }
   ],
   "source": [
    "import pandas as pd\n",
    "\n",
    "# Gas prices dataset\n",
    "gas_prices_data = {'date': ['2023-01-01', '2023-01-05', '2023-02-15', '2023-03-17', '2023-04-23', '2023-04-24'],\n",
    "                   'price': [2.00, 3.00, 2.00, 1.00, 3.00, 2.50]}\n",
    "gas_prices_df = pd.DataFrame(gas_prices_data)\n",
    "\n",
    "# Shipment history dataset\n",
    "shipment_history_data = {'date': ['2023-01-01', '2023-01-02', '2023-02-15', '2023-03-01', '2023-04-23', '2023-05-11'],\n",
    "                          'quantity': [1000, 5000, 500, 200, 1500, 2500]}\n",
    "shipment_history_df = pd.DataFrame(shipment_history_data)\n",
    "\n",
    "# Merging the datasets using 'date' as the common field with a full outer join\n",
    "merged_data = pd.merge(gas_prices_df, shipment_history_df, on='date', how='outer')\n",
    "\n",
    "# If you want to see the result\n",
    "print(merged_data)\n"
   ]
  },
  {
   "cell_type": "code",
   "execution_count": null,
   "id": "cc233da9-883e-4ed2-ba93-b6b7821c8136",
   "metadata": {},
   "outputs": [],
   "source": []
  }
 ],
 "metadata": {
  "kernelspec": {
   "display_name": "Python 3 (ipykernel)",
   "language": "python",
   "name": "python3"
  },
  "language_info": {
   "codemirror_mode": {
    "name": "ipython",
    "version": 3
   },
   "file_extension": ".py",
   "mimetype": "text/x-python",
   "name": "python",
   "nbconvert_exporter": "python",
   "pygments_lexer": "ipython3",
   "version": "3.11.5"
  }
 },
 "nbformat": 4,
 "nbformat_minor": 5
}
